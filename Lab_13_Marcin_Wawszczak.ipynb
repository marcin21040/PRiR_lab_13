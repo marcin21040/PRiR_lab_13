{
  "nbformat": 4,
  "nbformat_minor": 0,
  "metadata": {
    "colab": {
      "provenance": []
    },
    "kernelspec": {
      "name": "python3",
      "display_name": "Python 3"
    },
    "language_info": {
      "name": "python"
    },
    "accelerator": "GPU",
    "gpuClass": "standard"
  },
  "cells": [
    {
      "cell_type": "code",
      "execution_count": null,
      "metadata": {
        "colab": {
          "base_uri": "https://localhost:8080/"
        },
        "id": "xfvClZlqM-7w",
        "outputId": "27003a2a-1af3-474d-f8f8-0479d0b3028b"
      },
      "outputs": [
        {
          "output_type": "stream",
          "name": "stdout",
          "text": [
            "Wartość pi dla 100000 punktów na CPU: 3.1457600593566895\n",
            "Wartość pi dla 100000 punktów na GPU: 3.1437199115753174\n"
          ]
        }
      ],
      "source": [
        "# Importuj potrzebne biblioteki\n",
        "import torch\n",
        "import matplotlib.pyplot as plt\n",
        "\n",
        "# Zdefiniuj funkcję do obliczania pi przy użyciu symulacji Monte Carlo\n",
        "def monte_carlo_pi(n_samples, device):\n",
        "    # Wygeneruj losowe punkty w płaszczyźnie 2-wymiarowej\n",
        "    x = torch.rand(n_samples, 2, device=device) \n",
        "    # Oblicz odległość każdego punktu od początku układu współrzędnych\n",
        "    dist = x.norm(dim=1) \n",
        "    # Zlicz liczbę punktów wewnątrz koła jednostkowego\n",
        "    inside = (dist <= 1).sum().to(torch.float32)\n",
        "    # Oblicz szacowaną wartość pi\n",
        "    pi = (inside / n_samples) * 4 \n",
        "    return pi\n",
        "\n",
        "# Liczba próbek do wygenerowania\n",
        "n_samples = 100000\n",
        "\n",
        "# Oblicz pi na CPU\n",
        "device = 'cpu'\n",
        "pi_cpu = monte_carlo_pi(n_samples, device)\n",
        "print(f'Wartość pi dla {n_samples} punktów na CPU: {pi_cpu}')\n",
        "\n",
        "# Oblicz pi na GPU\n",
        "device = 'cuda'\n",
        "pi_gpu = monte_carlo_pi(n_samples, device)\n",
        "print(f'Wartość pi dla {n_samples} punktów na GPU: {pi_gpu}')\n"
      ]
    },
    {
      "cell_type": "code",
      "source": [
        "# Import biblioteki do pomiaru czasu\n",
        "import time\n",
        "\n",
        "# Zdefiniuj zakres liczby próbek do wygenerowania\n",
        "n_samples_range = [1000, 10000, 100000, 1000000]\n",
        "\n",
        "# Listy do zapisywania czasów obliczeń na CPU i GPU\n",
        "times_cpu = []\n",
        "times_gpu = []\n",
        "\n",
        "# Dla każdej liczby próbek:\n",
        "for n_samples in n_samples_range:\n",
        "    # Pomiar czasu rozpoczynający się przed obliczeniem pi na CPU\n",
        "    start_time = time.time()\n",
        "    monte_carlo_pi(n_samples, 'cpu')\n",
        "    # Pomiar czasu kończący się po zakończeniu obliczeń na CPU\n",
        "    end_time = time.time()\n",
        "    # Zapisz różnicę między czasem końcowym i początkowym do listy times_cpu\n",
        "    times_cpu.append(end_time - start_time)\n",
        "\n",
        "    # Pomiar czasu rozpoczynający się przed obliczeniem pi na GPU\n",
        "    start_time = time.time()\n",
        "    monte_carlo_pi(n_samples, 'cuda')\n",
        "    # Pomiar czasu kończący się po zakończeniu obliczeń na GPU\n",
        "    end_time = time.time()\n",
        "    # Zapisz różnicę między czasem końcowym i początkowym do listy times_gpu\n",
        "    times_gpu.append(end_time - start_time)\n",
        "\n",
        "# Wygeneruj wykres porównujący czas obliczeń na CPU i GPU\n",
        "plt.plot(n_samples_range, times_cpu, label='CPU')\n",
        "plt.plot(n_samples_range, times_gpu, label='GPU')\n",
        "# Skaluj oś X logarytmicznie\n",
        "plt.xscale('log')\n",
        "plt.xlabel(\"Liczba losowanych punktów\")\n",
        "plt.ylabel(\"Czas [s]\")\n",
        "plt.legend()\n",
        "plt.show()\n",
        "\n",
        "\n",
        "\n",
        "\n"
      ],
      "metadata": {
        "colab": {
          "base_uri": "https://localhost:8080/",
          "height": 287
        },
        "id": "zLyKucniOLFi",
        "outputId": "342e21da-fdfb-4897-9446-d55fbf3d18c0"
      },
      "execution_count": null,
      "outputs": [
        {
          "output_type": "display_data",
          "data": {
            "text/plain": [
              "<Figure size 432x288 with 1 Axes>"
            ],
            "image/png": "[encoded data removed]"
          },
          "metadata": {
            "needs_background": "light"
          }
        }
      ]
    },
    {
      "cell_type": "code",
      "source": [],
      "metadata": {
        "id": "NbOWglrVNGB5"
      },
      "execution_count": null,
      "outputs": []
    }
  ]
}